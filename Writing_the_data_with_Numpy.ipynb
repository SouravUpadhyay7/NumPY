{
  "nbformat": 4,
  "nbformat_minor": 0,
  "metadata": {
    "colab": {
      "provenance": [],
      "authorship_tag": "ABX9TyMtZ1L+Ky9L6B3MEIVsLPdR",
      "include_colab_link": true
    },
    "kernelspec": {
      "name": "python3",
      "display_name": "Python 3"
    },
    "language_info": {
      "name": "python"
    }
  },
  "cells": [
    {
      "cell_type": "markdown",
      "metadata": {
        "id": "view-in-github",
        "colab_type": "text"
      },
      "source": [
        "<a href=\"https://colab.research.google.com/github/SouravUpadhyay7/NumPY/blob/main/Writing_the_data_with_Numpy.ipynb\" target=\"_parent\"><img src=\"https://colab.research.google.com/assets/colab-badge.svg\" alt=\"Open In Colab\"/></a>"
      ]
    },
    {
      "cell_type": "code",
      "execution_count": 1,
      "metadata": {
        "id": "cYo-heKF2i1w"
      },
      "outputs": [],
      "source": [
        "import numpy as np\n",
        ""
      ]
    },
    {
      "cell_type": "code",
      "source": [
        "# Replacing existing content\n",
        "\n",
        "data = np.array([1,2,3])\n",
        "np.savetxt('data-1.txt', data, delimiter = ',')\n",
        "\n",
        "data = np.array([4,5,6])\n",
        "np.savetxt('data-2.txt', data, delimiter = ',')"
      ],
      "metadata": {
        "id": "u0yxW-RO2vnf"
      },
      "execution_count": 2,
      "outputs": []
    },
    {
      "cell_type": "code",
      "source": [
        "# Appending the data on existing file\n",
        "\n",
        "\n",
        "\n",
        "\n",
        "# data = np.array([1,2,3])\n",
        "# np.savetxt('data.txt', data, delimiter = ',')\n",
        "\n",
        "data = np.load('data.npy')\n",
        "\n",
        "# data = np.array([4,5,6])\n",
        "np.savetxt('data.txt', data, delimiter = ',')"
      ],
      "metadata": {
        "id": "xp-ty8ZK29E2"
      },
      "execution_count": null,
      "outputs": []
    }
  ]
}