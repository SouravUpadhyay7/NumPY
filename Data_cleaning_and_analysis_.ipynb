{
  "nbformat": 4,
  "nbformat_minor": 0,
  "metadata": {
    "colab": {
      "provenance": [],
      "authorship_tag": "ABX9TyNxrFP9b2IWOAxrEGg78NAp",
      "include_colab_link": true
    },
    "kernelspec": {
      "name": "python3",
      "display_name": "Python 3"
    },
    "language_info": {
      "name": "python"
    }
  },
  "cells": [
    {
      "cell_type": "markdown",
      "metadata": {
        "id": "view-in-github",
        "colab_type": "text"
      },
      "source": [
        "<a href=\"https://colab.research.google.com/github/SouravUpadhyay7/NumPY/blob/main/Data_cleaning_and_analysis_.ipynb\" target=\"_parent\"><img src=\"https://colab.research.google.com/assets/colab-badge.svg\" alt=\"Open In Colab\"/></a>"
      ]
    },
    {
      "cell_type": "code",
      "execution_count": 1,
      "metadata": {
        "id": "qFAYj_WPcNfi"
      },
      "outputs": [],
      "source": [
        "import numpy as np"
      ]
    },
    {
      "cell_type": "code",
      "source": [
        "# None to np.nan\n",
        "\n",
        "arr = np.array([1,2,3,None, 4,5,None])\n",
        "print(arr)\n",
        "\n",
        "arr[arr == None] = np.nan\n",
        "print(arr)"
      ],
      "metadata": {
        "colab": {
          "base_uri": "https://localhost:8080/"
        },
        "id": "yBRRXj-CcdeH",
        "outputId": "fe29500f-f976-4fbb-9dee-df1a856fc183"
      },
      "execution_count": 2,
      "outputs": [
        {
          "output_type": "stream",
          "name": "stdout",
          "text": [
            "[1 2 3 None 4 5 None]\n",
            "[1 2 3 nan 4 5 nan]\n"
          ]
        }
      ]
    },
    {
      "cell_type": "code",
      "source": [
        "# Checking with Null Values\n",
        "\n",
        "\n",
        "arr = np.array([1,2,3,np.nan, 4,5,np.nan])\n",
        "print(arr)\n",
        "\n",
        "print(np.isnan(arr))"
      ],
      "metadata": {
        "colab": {
          "base_uri": "https://localhost:8080/"
        },
        "id": "V9ahE87_chum",
        "outputId": "6e5a474d-c520-4560-ba64-a80e8b20cba6"
      },
      "execution_count": 3,
      "outputs": [
        {
          "output_type": "stream",
          "name": "stdout",
          "text": [
            "[ 1.  2.  3. nan  4.  5. nan]\n",
            "[False False False  True False False  True]\n"
          ]
        }
      ]
    },
    {
      "cell_type": "code",
      "source": [
        "# Removing null values\n",
        "\n",
        "arr = np.array([1,2,3,np.nan, 4,5,np.nan])\n",
        "\n",
        "print(np.isnan(arr))\n",
        "print(~np.isnan(arr))\n",
        "\n",
        "arr = arr[~np.isnan(arr)]\n",
        "print(arr)"
      ],
      "metadata": {
        "colab": {
          "base_uri": "https://localhost:8080/"
        },
        "id": "81c5yLQWcllv",
        "outputId": "55a03ad7-5331-4250-d1d9-c0f5ba24609f"
      },
      "execution_count": 4,
      "outputs": [
        {
          "output_type": "stream",
          "name": "stdout",
          "text": [
            "[False False False  True False False  True]\n",
            "[ True  True  True False  True  True False]\n",
            "[1. 2. 3. 4. 5.]\n"
          ]
        }
      ]
    },
    {
      "cell_type": "code",
      "source": [
        "# Filling null with fixed values\n",
        "\n",
        "\n",
        "arr = np.array([1,2,3, np.nan, 4,5,np.nan])\n",
        "print(arr)\n",
        "\n",
        "arr[np.isnan(arr)] = 0\n",
        "print(arr)\n",
        ""
      ],
      "metadata": {
        "colab": {
          "base_uri": "https://localhost:8080/"
        },
        "id": "HDappacYcq_W",
        "outputId": "d23da474-b14b-41d2-9595-f45084db499f"
      },
      "execution_count": 5,
      "outputs": [
        {
          "output_type": "stream",
          "name": "stdout",
          "text": [
            "[ 1.  2.  3. nan  4.  5. nan]\n",
            "[1. 2. 3. 0. 4. 5. 0.]\n"
          ]
        }
      ]
    },
    {
      "cell_type": "code",
      "source": [
        "# Filling null with average\n",
        "\n",
        "\n",
        "arr = np.array([21,22,22, np.nan, 24,25,np.nan])\n",
        "print(arr)\n",
        "\n",
        "arr[np.isnan(arr)] = int(np.nanmean(arr))\n",
        "print(arr)"
      ],
      "metadata": {
        "colab": {
          "base_uri": "https://localhost:8080/"
        },
        "id": "UsnyHph-cvou",
        "outputId": "db3b5908-5f99-4b8b-d80e-324d955a790a"
      },
      "execution_count": 6,
      "outputs": [
        {
          "output_type": "stream",
          "name": "stdout",
          "text": [
            "[21. 22. 22. nan 24. 25. nan]\n",
            "[21. 22. 22. 22. 24. 25. 22.]\n"
          ]
        }
      ]
    },
    {
      "cell_type": "code",
      "source": [
        "arr = np.random.randint(1,11,size=(5,5))\n",
        "arr"
      ],
      "metadata": {
        "colab": {
          "base_uri": "https://localhost:8080/"
        },
        "id": "wA8kJBX2g9Zu",
        "outputId": "f6bd0173-5c17-4323-8412-ed07ed339ab3"
      },
      "execution_count": 7,
      "outputs": [
        {
          "output_type": "execute_result",
          "data": {
            "text/plain": [
              "array([[ 3,  7,  8,  2,  5],\n",
              "       [ 4,  9,  6,  2, 10],\n",
              "       [ 6,  9, 10,  4,  3],\n",
              "       [ 2,  8,  7,  7,  5],\n",
              "       [ 1,  1,  5,  4,  4]])"
            ]
          },
          "metadata": {},
          "execution_count": 7
        }
      ]
    },
    {
      "cell_type": "code",
      "source": [
        "# Filter elements greater than 5\n",
        "\n",
        "arr[arr>5]"
      ],
      "metadata": {
        "colab": {
          "base_uri": "https://localhost:8080/"
        },
        "id": "l_numMxVhEkl",
        "outputId": "891e8c2a-9200-4428-81f3-e91a7bf65259"
      },
      "execution_count": 8,
      "outputs": [
        {
          "output_type": "execute_result",
          "data": {
            "text/plain": [
              "array([ 7,  8,  9,  6, 10,  6,  9, 10,  8,  7,  7])"
            ]
          },
          "metadata": {},
          "execution_count": 8
        }
      ]
    },
    {
      "cell_type": "code",
      "source": [
        "# Filter the elements that are even\n",
        "\n",
        "arr[arr%2 == 0]"
      ],
      "metadata": {
        "colab": {
          "base_uri": "https://localhost:8080/"
        },
        "id": "BOdoCl2fhLb9",
        "outputId": "033684d7-8919-473f-e8a6-660cbcfc78d5"
      },
      "execution_count": 9,
      "outputs": [
        {
          "output_type": "execute_result",
          "data": {
            "text/plain": [
              "array([ 8,  2,  4,  6,  2, 10,  6, 10,  4,  2,  8,  4,  4])"
            ]
          },
          "metadata": {},
          "execution_count": 9
        }
      ]
    },
    {
      "cell_type": "code",
      "source": [
        "# Filter elements that are both greather than 5 and even\n",
        "\n",
        "arr[(arr>5) & (arr%2 == 0)]"
      ],
      "metadata": {
        "colab": {
          "base_uri": "https://localhost:8080/"
        },
        "id": "GYtuIYXYhPtl",
        "outputId": "8969570d-f013-4adf-9564-79a5544ad739"
      },
      "execution_count": 10,
      "outputs": [
        {
          "output_type": "execute_result",
          "data": {
            "text/plain": [
              "array([ 8,  6, 10,  6, 10,  8])"
            ]
          },
          "metadata": {},
          "execution_count": 10
        }
      ]
    },
    {
      "cell_type": "code",
      "source": [
        "# Filter elements that are divisible by either 3 or 7\n",
        "\n",
        "arr[(arr % 3 == 0) | (arr % 7 == 0)]"
      ],
      "metadata": {
        "colab": {
          "base_uri": "https://localhost:8080/"
        },
        "id": "phVNQUophUfl",
        "outputId": "f1d656e5-dd88-4baf-f49f-c231c89b7490"
      },
      "execution_count": 11,
      "outputs": [
        {
          "output_type": "execute_result",
          "data": {
            "text/plain": [
              "array([3, 7, 9, 6, 6, 9, 3, 7, 7])"
            ]
          },
          "metadata": {},
          "execution_count": 11
        }
      ]
    },
    {
      "cell_type": "code",
      "source": [
        "\n",
        "\n",
        "# Filter elements that based on condition on another array\n",
        "\n",
        "arr1 = np.array([True, False, True,False,True])\n",
        "\n",
        "arr[arr1]"
      ],
      "metadata": {
        "colab": {
          "base_uri": "https://localhost:8080/"
        },
        "id": "gZG_TlvLhYvV",
        "outputId": "5fb68214-58f1-4ec7-82ce-9371fb5e6e33"
      },
      "execution_count": 13,
      "outputs": [
        {
          "output_type": "execute_result",
          "data": {
            "text/plain": [
              "array([[ 3,  7,  8,  2,  5],\n",
              "       [ 6,  9, 10,  4,  3],\n",
              "       [ 1,  1,  5,  4,  4]])"
            ]
          },
          "metadata": {},
          "execution_count": 13
        }
      ]
    },
    {
      "cell_type": "code",
      "source": [
        "# Filter the elements based on condition of specific row\n",
        "\n",
        "filtered_arr = arr[2][arr[2,:] > 5]\n",
        "\n",
        "filtered_arr"
      ],
      "metadata": {
        "colab": {
          "base_uri": "https://localhost:8080/"
        },
        "id": "pIAq3aumhmEN",
        "outputId": "d5275e35-e847-455e-faef-15ed05fa7442"
      },
      "execution_count": 14,
      "outputs": [
        {
          "output_type": "execute_result",
          "data": {
            "text/plain": [
              "array([ 6,  9, 10])"
            ]
          },
          "metadata": {},
          "execution_count": 14
        }
      ]
    },
    {
      "cell_type": "markdown",
      "source": [
        "### Aggregate Functions\n"
      ],
      "metadata": {
        "id": "RGhhdQzPhpxG"
      }
    },
    {
      "cell_type": "code",
      "source": [
        "# sum\n",
        "\n",
        "\n",
        "arr = np.array([1,2,3,4,5])\n",
        "print(np.sum(arr))\n",
        "\n",
        "arr = np.array([[1,2,3],[4,5,6]])\n",
        "print(np.sum(arr))\n",
        "print(np.sum(arr, axis = 0))\n",
        "print(np.sum(arr, axis = 1))"
      ],
      "metadata": {
        "colab": {
          "base_uri": "https://localhost:8080/"
        },
        "id": "1gsuQQ85hr89",
        "outputId": "c2783f0f-0da0-4e5c-a663-4e908b392a87"
      },
      "execution_count": 15,
      "outputs": [
        {
          "output_type": "stream",
          "name": "stdout",
          "text": [
            "15\n",
            "21\n",
            "[5 7 9]\n",
            "[ 6 15]\n"
          ]
        }
      ]
    },
    {
      "cell_type": "code",
      "source": [
        "#  mean\n",
        "\n",
        "arr = np.array([1,2,3,4,5])\n",
        "print(np.mean(arr))\n",
        "\n",
        "arr = np.array([[1,2,3],[4,5,6]])\n",
        "print(np.mean(arr))\n",
        "print(np.mean(arr, axis = 0))\n",
        "print(np.mean(arr, axis = 1))"
      ],
      "metadata": {
        "colab": {
          "base_uri": "https://localhost:8080/"
        },
        "id": "yjqPcCOmh2J0",
        "outputId": "e58974c1-4f3b-49dd-c073-0690543ffa36"
      },
      "execution_count": 16,
      "outputs": [
        {
          "output_type": "stream",
          "name": "stdout",
          "text": [
            "3.0\n",
            "3.5\n",
            "[2.5 3.5 4.5]\n",
            "[2. 5.]\n"
          ]
        }
      ]
    },
    {
      "cell_type": "code",
      "source": [
        "#  standard daviation\n",
        "\n",
        "arr = np.array([1,2,3,4,5])\n",
        "print(np.std(arr))\n",
        "\n",
        "arr = np.array([[1,2,3],[4,5,6]])\n",
        "print(np.std(arr))\n",
        "print(np.std(arr, axis = 0))\n",
        "print(np.std(arr, axis = 1))"
      ],
      "metadata": {
        "colab": {
          "base_uri": "https://localhost:8080/"
        },
        "id": "UclEt3sLh6W8",
        "outputId": "41db9e73-1dab-4073-b730-90c6d34420f7"
      },
      "execution_count": 17,
      "outputs": [
        {
          "output_type": "stream",
          "name": "stdout",
          "text": [
            "1.4142135623730951\n",
            "1.707825127659933\n",
            "[1.5 1.5 1.5]\n",
            "[0.81649658 0.81649658]\n"
          ]
        }
      ]
    },
    {
      "cell_type": "code",
      "source": [
        "# min-max\n",
        "\n",
        "arr = np.array([1,2,3,4,5])\n",
        "print(np.min(arr))\n",
        "\n",
        "arr = np.array([[1,2,3],[4,5,6]])\n",
        "print(np.min(arr))\n",
        "print(np.min(arr, axis = 0))\n",
        "print(np.min(arr, axis = 1))\n",
        "\n",
        "print('-'*20)\n",
        "\n",
        "arr = np.array([1,2,3,4,5])\n",
        "print(np.max(arr))\n",
        "\n",
        "arr = np.array([[1,2,3],[4,5,6]])\n",
        "print(np.max(arr))\n",
        "print(np.max(arr, axis = 0))\n",
        "print(np.max(arr, axis = 1))"
      ],
      "metadata": {
        "colab": {
          "base_uri": "https://localhost:8080/"
        },
        "id": "vcQqk1Muh-zc",
        "outputId": "73fd4597-e6fc-4488-a3a9-3f83b9964256"
      },
      "execution_count": 18,
      "outputs": [
        {
          "output_type": "stream",
          "name": "stdout",
          "text": [
            "1\n",
            "1\n",
            "[1 2 3]\n",
            "[1 4]\n",
            "--------------------\n",
            "5\n",
            "6\n",
            "[4 5 6]\n",
            "[3 6]\n"
          ]
        }
      ]
    },
    {
      "cell_type": "code",
      "source": [
        "\n",
        "arr = np.random.randint(low = 1, high = 101, size = 100)\n",
        "\n",
        "mean   = np.mean(arr)\n",
        "median = np.median(arr)\n",
        "\n",
        "variance = np.var(arr)\n",
        "std_dev  = np.std(arr)\n",
        "\n",
        "q1 = np.percentile(arr, 25)\n",
        "q2 = np.percentile(arr, 50)\n",
        "q3 = np.percentile(arr, 75)\n",
        "\n",
        "iqr = q3 - q1\n",
        "\n",
        "skewness = np.mean((arr - mean) ** 3) / (std_dev ** 3)\n",
        "kurtosis = np.mean((arr - mean) ** 4) / (std_dev ** 4)\n",
        "\n",
        "print('Mean      : ', mean)\n",
        "print('Median    : ', median)\n",
        "# print('Mode      : ', mode)\n",
        "print('-'*20)\n",
        "\n",
        "print('Variance  : ', variance)\n",
        "print('Standard  : ', std_dev)\n",
        "print('-'*20)\n",
        "\n",
        "print('Q1        : ', q1)\n",
        "print('Q2        : ', q2)\n",
        "print('Q3        : ', q3)\n",
        "print('-'*20)\n",
        "\n",
        "print('IQR       : ', iqr)\n",
        "print('Skewness  : ', skewness)\n",
        "print('Kurtosis  : ', kurtosis)"
      ],
      "metadata": {
        "colab": {
          "base_uri": "https://localhost:8080/"
        },
        "id": "GPL-Z6IriJe0",
        "outputId": "daf413ac-06a6-488c-93a2-d75703a0c39e"
      },
      "execution_count": 19,
      "outputs": [
        {
          "output_type": "stream",
          "name": "stdout",
          "text": [
            "Mean      :  47.58\n",
            "Median    :  49.5\n",
            "--------------------\n",
            "Variance  :  838.6036\n",
            "Standard  :  28.958653283604196\n",
            "--------------------\n",
            "Q1        :  22.0\n",
            "Q2        :  49.5\n",
            "Q3        :  70.25\n",
            "--------------------\n",
            "IQR       :  48.25\n",
            "Skewness  :  0.03865600827394269\n",
            "Kurtosis  :  1.7777005276537958\n"
          ]
        }
      ]
    },
    {
      "cell_type": "code",
      "source": [
        "# Searching\n",
        "\n",
        "arr = np.array([1,3,4,6,5,7,12,13])\n",
        "\n",
        "# Linear Search\n",
        "index = np.where(arr == 3)[0]\n",
        "print(index)\n",
        "\n",
        "# Binary Search\n",
        "index = np.searchsorted(arr, 3)\n",
        "print(index)\n",
        "\n",
        "# Searching Closest Value\n",
        "index = np.argmin(abs(arr - 11))\n",
        "print(index)\n",
        ""
      ],
      "metadata": {
        "colab": {
          "base_uri": "https://localhost:8080/"
        },
        "id": "-QMvSI4g3STT",
        "outputId": "c788ed5f-990f-48e1-fcc6-0ee7ce90c8b6"
      },
      "execution_count": 20,
      "outputs": [
        {
          "output_type": "stream",
          "name": "stdout",
          "text": [
            "[1]\n",
            "1\n",
            "6\n"
          ]
        }
      ]
    },
    {
      "cell_type": "code",
      "source": [
        "# Sorting\n",
        "\n",
        "arr = np.array([5,7,9,0,3,1,6,2,4,8])\n",
        "\n",
        "# Quick Sort\n",
        "sorted_arr = np.sort(arr)\n",
        "print(sorted_arr)\n",
        "\n",
        "# Quick Sort\n",
        "sorted_arr = np.sort(arr, kind = 'quicksort')\n",
        "print(sorted_arr)\n",
        "\n",
        "# Heap Sort\n",
        "sorted_arr = np.sort(arr, kind = 'heapsort')\n",
        "print(sorted_arr)\n",
        "\n",
        "# Merge Sort\n",
        "sorted_arr = np.sort(arr, kind = 'mergesort')\n",
        "print(sorted_arr)"
      ],
      "metadata": {
        "colab": {
          "base_uri": "https://localhost:8080/"
        },
        "id": "KLgmueBC3YvD",
        "outputId": "c7216ead-e318-4e42-c247-e409ac1f9e73"
      },
      "execution_count": 21,
      "outputs": [
        {
          "output_type": "stream",
          "name": "stdout",
          "text": [
            "[0 1 2 3 4 5 6 7 8 9]\n",
            "[0 1 2 3 4 5 6 7 8 9]\n",
            "[0 1 2 3 4 5 6 7 8 9]\n",
            "[0 1 2 3 4 5 6 7 8 9]\n"
          ]
        }
      ]
    },
    {
      "cell_type": "code",
      "source": [
        "# Masking with Boolean Arrays\n",
        "\n",
        "arr7 = np.array([1,2,np.nan,4,5,np.nan])\n",
        "\n",
        "print(np.isnan(arr7))\n",
        "print(arr7[np.isnan(arr7)])\n",
        "print(arr7[~np.isnan(arr7)])"
      ],
      "metadata": {
        "colab": {
          "base_uri": "https://localhost:8080/"
        },
        "id": "pBzvLTj95rL6",
        "outputId": "c9bfec6d-2873-4aa8-82a0-bb938650dc80"
      },
      "execution_count": 23,
      "outputs": [
        {
          "output_type": "stream",
          "name": "stdout",
          "text": [
            "[False False  True False False  True]\n",
            "[nan nan]\n",
            "[1. 2. 4. 5.]\n"
          ]
        }
      ]
    },
    {
      "cell_type": "code",
      "source": [
        "# Replacing outliers with s specific value\n",
        "\n",
        "arr = np.array([1,2,3,4,5,6,7,8,9])\n",
        "\n",
        "arr[arr > 7] = 7\n",
        "arr[arr < 3] = 3\n",
        "print(arr)\n",
        ""
      ],
      "metadata": {
        "colab": {
          "base_uri": "https://localhost:8080/"
        },
        "id": "BulFDpHL55-K",
        "outputId": "3dff7369-7261-4a15-c3de-709b9d070bb3"
      },
      "execution_count": 24,
      "outputs": [
        {
          "output_type": "stream",
          "name": "stdout",
          "text": [
            "[3 3 3 4 5 6 7 7 7]\n"
          ]
        }
      ]
    },
    {
      "cell_type": "code",
      "source": [
        "# Removing the Duplicates\n",
        "\n",
        "\n",
        "arr = np.array([1,2,2,2,3,3,4,5,6,7,8,9])\n",
        "print(arr)\n",
        "\n",
        "unique_arr = np.unique(arr)\n",
        "print(unique_arr)\n",
        "\n",
        "print(set(arr))"
      ],
      "metadata": {
        "colab": {
          "base_uri": "https://localhost:8080/"
        },
        "id": "mFxkLal05_PS",
        "outputId": "f1912110-42aa-4e05-8df3-493b1609a48c"
      },
      "execution_count": 25,
      "outputs": [
        {
          "output_type": "stream",
          "name": "stdout",
          "text": [
            "[1 2 2 2 3 3 4 5 6 7 8 9]\n",
            "[1 2 3 4 5 6 7 8 9]\n",
            "{1, 2, 3, 4, 5, 6, 7, 8, 9}\n"
          ]
        }
      ]
    },
    {
      "cell_type": "code",
      "source": [
        "#  Categorical data to One Hot Encoding\n",
        "\n",
        "\n",
        "categorical_arr = np.array(['A','B','C','D','E'])\n",
        "\n",
        "numrical_arr = np.array([0,1,2,3,4])\n",
        "\n",
        "print(categorical_arr)\n",
        "\n",
        "one_hot_arr = np.eye(5)[numrical_arr]\n",
        "print(one_hot_arr)"
      ],
      "metadata": {
        "colab": {
          "base_uri": "https://localhost:8080/"
        },
        "id": "LOQhFjJm6EBi",
        "outputId": "d5df6fb9-c666-405e-eb21-5897ca8f328f"
      },
      "execution_count": 26,
      "outputs": [
        {
          "output_type": "stream",
          "name": "stdout",
          "text": [
            "['A' 'B' 'C' 'D' 'E']\n",
            "[[1. 0. 0. 0. 0.]\n",
            " [0. 1. 0. 0. 0.]\n",
            " [0. 0. 1. 0. 0.]\n",
            " [0. 0. 0. 1. 0.]\n",
            " [0. 0. 0. 0. 1.]]\n"
          ]
        }
      ]
    },
    {
      "cell_type": "code",
      "source": [
        "#  Data Normalization\n",
        "\n",
        "arr = np.array([10000,200000,300000,4000000,5000000])\n",
        "\n",
        "normalized_arr = (arr - arr.min()) / (arr.max() - arr.min())\n",
        "print(normalized_arr)"
      ],
      "metadata": {
        "colab": {
          "base_uri": "https://localhost:8080/"
        },
        "id": "uiIu4Hbx6IjK",
        "outputId": "2e5dcda4-4d8d-4ea7-acf9-06512c6eceee"
      },
      "execution_count": 29,
      "outputs": [
        {
          "output_type": "stream",
          "name": "stdout",
          "text": [
            "[0.         0.03807615 0.05811623 0.7995992  1.        ]\n"
          ]
        }
      ]
    }
  ]
}